{
 "cells": [
  {
   "cell_type": "code",
   "execution_count": 7,
   "id": "278d07d5-554b-49fa-a030-a70173268af9",
   "metadata": {},
   "outputs": [],
   "source": [
    "import csv"
   ]
  },
  {
   "cell_type": "code",
   "execution_count": 8,
   "id": "d26de8d0-30f5-4c2c-bea1-e26c41796a00",
   "metadata": {},
   "outputs": [
    {
     "name": "stdout",
     "output_type": "stream",
     "text": [
      "In the given training dataset:\n",
      "['sky', 'air_temp', 'humidity', 'wind', 'water', 'forecast', 'enjoy_sport']\n",
      "['sunny', 'warm', 'normal', 'strong', 'warm', 'same', 'yes']\n",
      "['sunny', 'warm', 'high', 'strong', 'warm', 'same', 'yes']\n",
      "['rainy', 'cold', 'high', 'strong', 'warm', 'change', 'no']\n",
      "['sunny', 'warm', 'high', 'strong', 'cool', 'change', 'yes']\n"
     ]
    }
   ],
   "source": [
    "a = []\n",
    "print(\"In the given training dataset:\")\n",
    "with open('./datasets/enjoysport.csv') as csvFile:\n",
    "    reader = csv.reader(csvFile)\n",
    "    for row in reader:\n",
    "        a.append(row)\n",
    "        print(row)"
   ]
  },
  {
   "cell_type": "code",
   "execution_count": 9,
   "id": "8469a8ae-1374-4870-8ba9-28002efeb2b0",
   "metadata": {},
   "outputs": [
    {
     "name": "stdout",
     "output_type": "stream",
     "text": [
      "The initial value of hypothesis:\n",
      "['0', '0', '0', '0', '0', '0']\n",
      "['?', '?', '?', '?', '?', '?']\n"
     ]
    }
   ],
   "source": [
    "n = len(a[0]) - 1 # No of attributes\n",
    "print(\"The initial value of hypothesis:\")\n",
    "S = ['0'] * n\n",
    "G = ['?'] * n\n",
    "print(S, G, sep = '\\n')"
   ]
  },
  {
   "cell_type": "code",
   "execution_count": 10,
   "id": "2601591e-07fb-4ea8-ac78-27caac5e3a41",
   "metadata": {},
   "outputs": [
    {
     "name": "stdout",
     "output_type": "stream",
     "text": [
      "Candidate elimination algorithm:\n",
      "\n",
      "For +ve training example 1 hypothesis is\n",
      "S1: ['sunny', 'warm', 'normal', 'strong', 'warm', 'same']\n",
      "G1: ['?', '?', '?', '?', '?', '?']\n",
      "\n",
      "\n",
      "For +ve training example 2 hypothesis is\n",
      "S2: ['sunny', 'warm', '?', 'strong', 'warm', 'same']\n",
      "G2: ['?', '?', '?', '?', '?', '?']\n",
      "\n",
      "\n",
      "For -ve training example 3 hypothesis is\n",
      "S3: ['sunny', 'warm', '?', 'strong', 'warm', 'same']\n",
      "G3: [['sunny', '?', '?', '?', '?', '?'], ['?', 'warm', '?', '?', '?', '?'], ['?', '?', '?', '?', '?', 'same']]\n",
      "\n",
      "\n",
      "For +ve training example 4 hypothesis is\n",
      "S4: ['sunny', 'warm', '?', 'strong', '?', '?']\n",
      "G4: [['sunny', '?', '?', '?', '?', '?'], ['?', 'warm', '?', '?', '?', '?']]\n",
      "\n",
      "Final hypothesis S is ['sunny', 'warm', '?', 'strong', '?', '?']\n",
      "Final hypothesis G is [['sunny', '?', '?', '?', '?', '?'], ['?', 'warm', '?', '?', '?', '?']]\n"
     ]
    }
   ],
   "source": [
    "for j in range(n):\n",
    "    S[j] = a[1][j]\n",
    "    \n",
    "print(\"Candidate elimination algorithm:\")\n",
    "temp = []\n",
    "for i in range(1, len(a)):\n",
    "    if a[i][n] == 'yes':\n",
    "        for j in range(n):\n",
    "            if a[i][j] != S[j]:\n",
    "                S[j] = '?'\n",
    "        for j in range(n):\n",
    "            for k in range(1, len(temp)):\n",
    "                if temp[k][j] != '?' and temp[k][j] != S[j]:\n",
    "                    del(temp[k])\n",
    "        print(f\"\\nFor +ve training example {i} hypothesis is\")\n",
    "        print(f\"S{i}:\", S)\n",
    "        if len(temp) == 0:\n",
    "            print(f\"G{i}:\", G)\n",
    "        else:\n",
    "            print(f\"G{i}:\", temp)\n",
    "        print()\n",
    "\n",
    "    else:\n",
    "        for j in range(n):\n",
    "            if S[j] != a[i][j] and S[j] != '?':\n",
    "                G[j] = S[j]\n",
    "                temp.append(G)\n",
    "                G = ['?'] * n\n",
    "        print(f\"\\nFor -ve training example {i} hypothesis is\")\n",
    "        print(f\"S{i}:\", S)\n",
    "        if len(temp) == 0:\n",
    "            print(f\"G{i}:\", G)\n",
    "        else:\n",
    "            print(f\"G{i}:\", temp)\n",
    "            print()\n",
    "print(f\"Final hypothesis S is\", S)\n",
    "print(f\"Final hypothesis G is\", temp)"
   ]
  },
  {
   "cell_type": "code",
   "execution_count": null,
   "id": "e76b22a8-f0b0-44e8-9aaf-37fef9811f83",
   "metadata": {},
   "outputs": [],
   "source": []
  },
  {
   "cell_type": "code",
   "execution_count": null,
   "id": "49023029-0521-42b0-a34d-42c593929be8",
   "metadata": {},
   "outputs": [],
   "source": []
  },
  {
   "cell_type": "code",
   "execution_count": null,
   "id": "545aa544-dfe2-4896-8a71-e7a942656fbd",
   "metadata": {},
   "outputs": [],
   "source": []
  }
 ],
 "metadata": {
  "kernelspec": {
   "display_name": "Python 3 (ipykernel)",
   "language": "python",
   "name": "python3"
  },
  "language_info": {
   "codemirror_mode": {
    "name": "ipython",
    "version": 3
   },
   "file_extension": ".py",
   "mimetype": "text/x-python",
   "name": "python",
   "nbconvert_exporter": "python",
   "pygments_lexer": "ipython3",
   "version": "3.11.6"
  }
 },
 "nbformat": 4,
 "nbformat_minor": 5
}
