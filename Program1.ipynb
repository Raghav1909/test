{
 "cells": [
  {
   "cell_type": "code",
   "execution_count": 21,
   "metadata": {},
   "outputs": [],
   "source": [
    "import csv"
   ]
  },
  {
   "cell_type": "code",
   "execution_count": 22,
   "metadata": {},
   "outputs": [
    {
     "name": "stdout",
     "output_type": "stream",
     "text": [
      "In the given training dataset:\n",
      "['sky', 'air_temp', 'humidity', 'wind', 'water', 'forecast', 'enjoy_sport']\n",
      "['sunny', 'warm', 'normal', 'strong', 'warm', 'same', 'yes']\n",
      "['sunny', 'warm', 'high', 'strong', 'warm', 'same', 'yes']\n",
      "['rainy', 'cold', 'high', 'strong', 'warm', 'change', 'no']\n",
      "['sunny', 'warm', 'high', 'strong', 'cool', 'change', 'yes']\n"
     ]
    }
   ],
   "source": [
    "n = 6 # No of attributes\n",
    "a = []\n",
    "print(\"In the given training dataset:\")\n",
    "with open('./datasets/enjoysport.csv') as csvFile:\n",
    "    reader = csv.reader(csvFile)\n",
    "    for row in reader:\n",
    "        a.append(row)\n",
    "        print(row)"
   ]
  },
  {
   "cell_type": "code",
   "execution_count": 23,
   "metadata": {},
   "outputs": [
    {
     "name": "stdout",
     "output_type": "stream",
     "text": [
      "The initial value of hypothesis is: \n",
      "['0', '0', '0', '0', '0', '0']\n"
     ]
    }
   ],
   "source": [
    "hypothesis = ['0'] * n\n",
    "print(\"The initial value of hypothesis is: \")\n",
    "print(hypothesis)"
   ]
  },
  {
   "cell_type": "code",
   "execution_count": 24,
   "metadata": {},
   "outputs": [
    {
     "name": "stdout",
     "output_type": "stream",
     "text": [
      "['sunny', 'warm', 'normal', 'strong', 'warm', 'same']\n"
     ]
    }
   ],
   "source": [
    "for j in range(n):\n",
    "    hypothesis[j] = a[1][j]\n",
    "print(hypothesis)"
   ]
  },
  {
   "cell_type": "code",
   "execution_count": 25,
   "metadata": {},
   "outputs": [
    {
     "name": "stdout",
     "output_type": "stream",
     "text": [
      "Find-S: Finding maximally specific hypothesis\n",
      "For training instance 0.: ['sunny', 'warm', 'normal', 'strong', 'warm', 'same']\n",
      "For training instance 1.: ['sunny', 'warm', 'normal', 'strong', 'warm', 'same']\n",
      "For training instance 2.: ['sunny', 'warm', '?', 'strong', 'warm', 'same']\n",
      "For training instance 3.: ['sunny', 'warm', '?', 'strong', 'warm', 'same']\n",
      "For training instance 4.: ['sunny', 'warm', '?', 'strong', '?', '?']\n"
     ]
    }
   ],
   "source": [
    "print(\"Find-S: Finding maximally specific hypothesis\")\n",
    "for i in range(len(a)):\n",
    "    if a[i][n] == 'yes':\n",
    "        for j in range(n):\n",
    "            if a[i][j] != hypothesis[j]:\n",
    "                hypothesis[j] = '?'\n",
    "            # else:\n",
    "            #     hypothesis[j] = a[i][j]\n",
    "    print(f\"For training instance {i}.:\", hypothesis)"
   ]
  },
  {
   "cell_type": "code",
   "execution_count": 26,
   "metadata": {},
   "outputs": [
    {
     "name": "stdout",
     "output_type": "stream",
     "text": [
      "The maximally specific hypothesis for the given training dataset:\n",
      "['sunny', 'warm', '?', 'strong', '?', '?']\n"
     ]
    }
   ],
   "source": [
    "print(\"The maximally specific hypothesis for the given training dataset:\")\n",
    "print(hypothesis)"
   ]
  }
 ],
 "metadata": {
  "kernelspec": {
   "display_name": "Python 3 (ipykernel)",
   "language": "python",
   "name": "python3"
  },
  "language_info": {
   "codemirror_mode": {
    "name": "ipython",
    "version": 3
   },
   "file_extension": ".py",
   "mimetype": "text/x-python",
   "name": "python",
   "nbconvert_exporter": "python",
   "pygments_lexer": "ipython3",
   "version": "3.11.6"
  }
 },
 "nbformat": 4,
 "nbformat_minor": 4
}
